{
 "cells": [
  {
   "cell_type": "code",
   "execution_count": 11,
   "id": "0801d7bd",
   "metadata": {},
   "outputs": [],
   "source": [
    "#3x3 grid\n",
    "#3 in a row ([x][x+1]), col ([x+1][x]), dia ([x+1][x+-1]= WIN CON\n",
    "#Check win con every loop\n",
    "#Fill boxes with either \"X\" or \"O\"\n",
    "#If grid is filled with win con not met = DRAW\n",
    "import math"
   ]
  },
  {
   "cell_type": "code",
   "execution_count": 12,
   "id": "ca299aee",
   "metadata": {},
   "outputs": [],
   "source": [
    "def createNewGrid():\n",
    "    grid=[[float(\"nan\") for i in range(3)] for i in range(3)]\n",
    "    return grid\n"
   ]
  },
  {
   "cell_type": "code",
   "execution_count": 13,
   "id": "f512347f",
   "metadata": {},
   "outputs": [],
   "source": [
    "#Set as 1 and 4 so that no matter which case \n",
    "#player_X = 1\n",
    "#player_O = 4\n",
    "\n",
    "#whoWon = False\n"
   ]
  },
  {
   "cell_type": "code",
   "execution_count": 14,
   "id": "d73dc5a0",
   "metadata": {},
   "outputs": [],
   "source": [
    "#testForRow = [[1,1,1],[4,4,4],[5,5,5]]\n",
    "#testForCol = [[1,4,15],[1,4,15],[1,4,15]]\n",
    "#testForDiag = [[1,13,4],[13,4,13],[4,13,1]]"
   ]
  },
  {
   "cell_type": "code",
   "execution_count": 15,
   "id": "9a367837",
   "metadata": {},
   "outputs": [],
   "source": [
    "#Win Condition - Rows\n",
    "#Checks the sum of each array to determine whether a win condion is met for X or O\n",
    "def rowWinCon():\n",
    "    for row in testForRow:\n",
    "        print(row)\n",
    "        if sum(row) == 3 * player_X:\n",
    "            print(\"X's have won\")\n",
    "            whoWon = player_X\n",
    "            isgameOver = True\n",
    "\n",
    "        elif sum(row) == 3 * player_O:\n",
    "            print(\"O's have won\")\n",
    "            whoWon = player_O\n",
    "            isgameOver = True\n",
    "\n",
    "        else:\n",
    "            print(\"Draw\")\n",
    "            whowon = False\n",
    "            "
   ]
  },
  {
   "cell_type": "code",
   "execution_count": 16,
   "id": "e25d041d",
   "metadata": {},
   "outputs": [],
   "source": [
    "#Win Condition - Columns\n",
    "def colWinCon():\n",
    "    for col in range(3):\n",
    "        total = 0\n",
    "        print(\"Col: \", col)\n",
    "        for row in range(3):\n",
    "            print(\"Row: \", row)\n",
    "            total += testForCol[row][col]\n",
    "            print(\"Total: \", total)\n",
    "        #Check if the win con is met    \n",
    "        if total == 3 * player_X:\n",
    "            print(\"X's have won\")\n",
    "            whoWon = player_X\n",
    "            isgameOver = True\n",
    "            \n",
    "        elif total == 3 * player_O:\n",
    "            print(\"O's have won\")\n",
    "            whoWon = player_O\n",
    "            isgameOver = True\n",
    "            \n",
    "        else:\n",
    "            print(\"Draw\")\n",
    "            whoWon = False\n",
    "\n"
   ]
  },
  {
   "cell_type": "code",
   "execution_count": 17,
   "id": "b32ab3e3",
   "metadata": {},
   "outputs": [],
   "source": [
    "# define column sum\n",
    "# define diag sum\n",
    "\n",
    "# board[00]"
   ]
  },
  {
   "cell_type": "code",
   "execution_count": 18,
   "id": "98b591d2",
   "metadata": {},
   "outputs": [],
   "source": [
    "### check rows sum is 12 or 3\n",
    "### check cols sum  sum(test)\n",
    "### check diag sum\n",
    "\n",
    "\n",
    "### then check for draw\n",
    "\n",
    "### else next turn"
   ]
  },
  {
   "cell_type": "code",
   "execution_count": 19,
   "id": "9e62423f",
   "metadata": {},
   "outputs": [],
   "source": [
    "#Win Condion - Diagionals\n",
    "# Either ([0][0],[1][1],[2][2]) or ([2][2],[1][1],[0][0])\n",
    "#diagTlBrTotal is  from Top Left to Bottom Right\n",
    "#diagTrBLTotal is from Top Right to Bottom Left\n",
    "def diagWinCon():\n",
    "    diagTlBrTotal = 0\n",
    "    diagTrBlTotal = 0\n",
    "    for col in range(3):\n",
    "        #print(\"Col: \", col)\n",
    "        for row in range(3):\n",
    "            #print(\"Row: \", row)\n",
    "            if row == col:\n",
    "                diagTlBrTotal += testForDiag[row][col]\n",
    "                diagTrBlTotal += testForDiag[row][2-col]\n",
    "\n",
    "            #elif row == 2-col:\n",
    "                #print(row, col)\n",
    "                #inverseTotal += testForDiag[row][3-col]\n",
    "            print(\"Total: \", diagTlBrTotal)\n",
    "            print(\"Inverse: \",diagTrBlTotal)\n",
    "    print(\"Final Total: \", diagTlBrTotal)\n",
    "    print(\"Final Inverse Total: \", diagTrBlTotal)\n",
    "\n",
    "    #Conditions for game state\n",
    "    if diagTlBrTotal == 3 * player_X or diagTrBlTotal == 3 * player_X:\n",
    "        print(\"X's have won\")\n",
    "        whoWon = player_X\n",
    "        isgameOver = True\n",
    "\n",
    "    elif diagTlBrTotal == 3 * player_X or diagTrBlTotal == 3 * player_O:\n",
    "        print(\"O's have won\")\n",
    "        whoWon = player_O\n",
    "        isgameOver = True\n",
    "\n",
    "    else:\n",
    "        print(\"Draw\")\n",
    "        whoWon = False\n",
    "    "
   ]
  },
  {
   "cell_type": "code",
   "execution_count": 20,
   "id": "74f443f9",
   "metadata": {},
   "outputs": [],
   "source": [
    "#Draw condition\n",
    "def drawCon():\n",
    "    for row in grid:\n",
    "        for value in row:\n",
    "            print(value)\n",
    "            if math.isnan(value) == True:\n",
    "                isGameOver = False\n",
    "                break\n",
    "            else:\n",
    "                isGameOver = True\n",
    "    \n",
    "    print(isGameOver)\n",
    "\n"
   ]
  },
  {
   "cell_type": "code",
   "execution_count": 21,
   "id": "aee1537c",
   "metadata": {},
   "outputs": [],
   "source": [
    "def playerMove(playerTurn):\n",
    "    while True:\n",
    "        #Asks user for input to find out what row they want to interact with\n",
    "        makeMoveRow = int(input(\"What row do+ you want to put your symbol in?: 1, 2, 3 \"))\n",
    "\n",
    "        #Asks user for input to find out what column they want to interact with\n",
    "        makeMoveCol = int(input(\"What column do you want to put the symbol in?: 1, 2, 3 \"))\n",
    "\n",
    "        #Postion the user whants to replace the value of in the grid\n",
    "        valueToReplace = grid[makeMoveRow-1][makeMoveCol-1] \n",
    "        print(valueToReplace)\n",
    "\n",
    "        #Action to replace value user want to either \"X\" or \"O\"\n",
    "        if math.isnan(valueToReplace) == True: \n",
    "            grid[makeMoveRow-1][makeMoveCol-1] = playerTurn\n",
    "            print(grid)\n",
    "            break\n",
    "        else:\n",
    "            print(\"This spot has already been taken\")\n",
    "\n"
   ]
  },
  {
   "cell_type": "code",
   "execution_count": 31,
   "id": "40c870fb",
   "metadata": {},
   "outputs": [
    {
     "name": "stdout",
     "output_type": "stream",
     "text": [
      "test\n",
      "[[nan, nan, nan], [nan, nan, nan], [nan, nan, nan]]\n",
      "What row do+ you want to put your symbol in?: 1, 2, 3 1\n",
      "What column do you want to put the symbol in?: 1, 2, 3 1\n"
     ]
    },
    {
     "ename": "NameError",
     "evalue": "name 'grid' is not defined",
     "output_type": "error",
     "traceback": [
      "\u001b[0;31m---------------------------------------------------------------------------\u001b[0m",
      "\u001b[0;31mNameError\u001b[0m                                 Traceback (most recent call last)",
      "Cell \u001b[0;32mIn[31], line 28\u001b[0m\n\u001b[1;32m     25\u001b[0m                 drawCon()\n\u001b[1;32m     27\u001b[0m \u001b[38;5;28mprint\u001b[39m(\u001b[38;5;124m\"\u001b[39m\u001b[38;5;124mtest\u001b[39m\u001b[38;5;124m\"\u001b[39m)            \n\u001b[0;32m---> 28\u001b[0m \u001b[43mplayTicTacToe\u001b[49m\u001b[43m(\u001b[49m\u001b[43m)\u001b[49m\n",
      "Cell \u001b[0;32mIn[31], line 14\u001b[0m, in \u001b[0;36mplayTicTacToe\u001b[0;34m()\u001b[0m\n\u001b[1;32m     11\u001b[0m \u001b[38;5;28mprint\u001b[39m(grid)\n\u001b[1;32m     12\u001b[0m \u001b[38;5;66;03m#print(type(playerTurns[player]))\u001b[39;00m\n\u001b[0;32m---> 14\u001b[0m \u001b[43mplayerMove\u001b[49m\u001b[43m(\u001b[49m\u001b[43mplayerTurns\u001b[49m\u001b[43m[\u001b[49m\u001b[43mplayer\u001b[49m\u001b[43m]\u001b[49m\u001b[43m)\u001b[49m\n\u001b[1;32m     16\u001b[0m rowWinCon()\n\u001b[1;32m     17\u001b[0m colWinCon()\n",
      "Cell \u001b[0;32mIn[21], line 10\u001b[0m, in \u001b[0;36mplayerMove\u001b[0;34m(playerTurn)\u001b[0m\n\u001b[1;32m      7\u001b[0m makeMoveCol \u001b[38;5;241m=\u001b[39m \u001b[38;5;28mint\u001b[39m(\u001b[38;5;28minput\u001b[39m(\u001b[38;5;124m\"\u001b[39m\u001b[38;5;124mWhat column do you want to put the symbol in?: 1, 2, 3 \u001b[39m\u001b[38;5;124m\"\u001b[39m))\n\u001b[1;32m      9\u001b[0m \u001b[38;5;66;03m#Postion the user whants to replace the value of in the grid\u001b[39;00m\n\u001b[0;32m---> 10\u001b[0m valueToReplace \u001b[38;5;241m=\u001b[39m \u001b[43mgrid\u001b[49m[makeMoveRow\u001b[38;5;241m-\u001b[39m\u001b[38;5;241m1\u001b[39m][makeMoveCol\u001b[38;5;241m-\u001b[39m\u001b[38;5;241m1\u001b[39m] \n\u001b[1;32m     11\u001b[0m \u001b[38;5;28mprint\u001b[39m(valueToReplace)\n\u001b[1;32m     13\u001b[0m \u001b[38;5;66;03m#Action to replace value user want to either \"X\" or \"O\"\u001b[39;00m\n",
      "\u001b[0;31mNameError\u001b[0m: name 'grid' is not defined"
     ]
    }
   ],
   "source": [
    "def playTicTacToe():\n",
    "    #Declaring variables\n",
    "    player_X = 1\n",
    "    player_O = 4\n",
    "    whoWon = False\n",
    "    isgameOver = False\n",
    "    playerTurns = [player_X, player_O, player_X, player_O, player_X, player_O, player_X, player_O, player_X]\n",
    "    grid = createNewGrid()\n",
    "    while isgameOver == False:\n",
    "        for player in playerTurns:\n",
    "            print(grid)\n",
    "            #print(type(playerTurns[player]))\n",
    "\n",
    "            playerMove(playerTurns[player])\n",
    "\n",
    "            rowWinCon()\n",
    "            colWinCon()\n",
    "            diagWinCon()\n",
    "            \n",
    "            if whoWon == player_X:\n",
    "                isgameOver = True\n",
    "            elif whoWon == player_O:\n",
    "                isgameOver = True\n",
    "            else:\n",
    "                drawCon()\n",
    "\n",
    "print(\"test\")            \n",
    "playTicTacToe()"
   ]
  },
  {
   "cell_type": "code",
   "execution_count": null,
   "id": "235b1dea",
   "metadata": {},
   "outputs": [],
   "source": [
    "print(\"test\") "
   ]
  },
  {
   "cell_type": "code",
   "execution_count": null,
   "id": "8a92c5a0",
   "metadata": {},
   "outputs": [],
   "source": []
  },
  {
   "cell_type": "code",
   "execution_count": null,
   "id": "bad2db43",
   "metadata": {},
   "outputs": [],
   "source": []
  },
  {
   "cell_type": "code",
   "execution_count": null,
   "id": "bbc74d2f",
   "metadata": {},
   "outputs": [],
   "source": []
  }
 ],
 "metadata": {
  "kernelspec": {
   "display_name": "Python 3 (ipykernel)",
   "language": "python",
   "name": "python3"
  },
  "language_info": {
   "codemirror_mode": {
    "name": "ipython",
    "version": 3
   },
   "file_extension": ".py",
   "mimetype": "text/x-python",
   "name": "python",
   "nbconvert_exporter": "python",
   "pygments_lexer": "ipython3",
   "version": "3.10.6"
  }
 },
 "nbformat": 4,
 "nbformat_minor": 5
}
